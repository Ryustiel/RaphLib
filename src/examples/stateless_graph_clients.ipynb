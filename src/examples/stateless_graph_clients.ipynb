{
 "cells": [
  {
   "cell_type": "code",
   "execution_count": null,
   "id": "d419052c",
   "metadata": {},
   "outputs": [],
   "source": [
    "from clients.postgredb import PostgreDatabaseClient"
   ]
  },
  {
   "cell_type": "code",
   "execution_count": 7,
   "id": "077db2dc",
   "metadata": {},
   "outputs": [],
   "source": [
    "from CONSTANTS import *"
   ]
  },
  {
   "cell_type": "code",
   "execution_count": null,
   "id": "91c65113",
   "metadata": {},
   "outputs": [
    {
     "name": "stdout",
     "output_type": "stream",
     "text": [
      "h\n",
      "e\n",
      "l\n",
      "l\n",
      "o\n"
     ]
    },
    {
     "data": {
      "text/plain": [
       "'hello'"
      ]
     },
     "execution_count": 2,
     "metadata": {},
     "output_type": "execute_result"
    }
   ],
   "source": [
    "from packages.raphlib.src.raphlib.graph import PersistentRemoteGraphClient\n",
    "\n",
    "client = PersistentRemoteGraphClient(storage_path=\"./STATE.json\", url=\"http://127.0.0.1:2024\")\n",
    "\n",
    "buffer = \"\"\n",
    "async for chunk in client.astream(assistant_id=\"test\"):\n",
    "    print(chunk)\n",
    "    match chunk:\n",
    "        case \"#typing#\":\n",
    "            pass\n",
    "        case \"#send#\":\n",
    "            print(buffer)\n",
    "            buffer = \"\"\n",
    "        case _:\n",
    "            buffer += chunk\n",
    "\n",
    "buffer"
   ]
  }
 ],
 "metadata": {
  "kernelspec": {
   "display_name": ".venv",
   "language": "python",
   "name": "python3"
  },
  "language_info": {
   "codemirror_mode": {
    "name": "ipython",
    "version": 3
   },
   "file_extension": ".py",
   "mimetype": "text/x-python",
   "name": "python",
   "nbconvert_exporter": "python",
   "pygments_lexer": "ipython3",
   "version": "3.13.2"
  }
 },
 "nbformat": 4,
 "nbformat_minor": 5
}
